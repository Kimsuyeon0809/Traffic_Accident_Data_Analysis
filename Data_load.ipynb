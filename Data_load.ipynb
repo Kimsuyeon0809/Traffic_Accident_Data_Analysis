{
 "cells": [
  {
   "cell_type": "code",
   "execution_count": 5,
   "id": "718ea72f-db45-4173-b030-952778cf49eb",
   "metadata": {},
   "outputs": [
    {
     "name": "stdout",
     "output_type": "stream",
     "text": [
      "Requirement already satisfied: requests in c:\\users\\aa538\\anaconda3\\lib\\site-packages (2.31.0)\n",
      "Requirement already satisfied: pandas in c:\\users\\aa538\\anaconda3\\lib\\site-packages (2.1.4)\n",
      "Requirement already satisfied: charset-normalizer<4,>=2 in c:\\users\\aa538\\anaconda3\\lib\\site-packages (from requests) (2.0.4)\n",
      "Requirement already satisfied: idna<4,>=2.5 in c:\\users\\aa538\\anaconda3\\lib\\site-packages (from requests) (3.4)\n",
      "Requirement already satisfied: urllib3<3,>=1.21.1 in c:\\users\\aa538\\anaconda3\\lib\\site-packages (from requests) (2.0.7)\n",
      "Requirement already satisfied: certifi>=2017.4.17 in c:\\users\\aa538\\anaconda3\\lib\\site-packages (from requests) (2024.2.2)\n",
      "Requirement already satisfied: numpy<2,>=1.23.2 in c:\\users\\aa538\\anaconda3\\lib\\site-packages (from pandas) (1.26.4)\n",
      "Requirement already satisfied: python-dateutil>=2.8.2 in c:\\users\\aa538\\anaconda3\\lib\\site-packages (from pandas) (2.8.2)\n",
      "Requirement already satisfied: pytz>=2020.1 in c:\\users\\aa538\\anaconda3\\lib\\site-packages (from pandas) (2023.3.post1)\n",
      "Requirement already satisfied: tzdata>=2022.1 in c:\\users\\aa538\\anaconda3\\lib\\site-packages (from pandas) (2023.3)\n",
      "Requirement already satisfied: six>=1.5 in c:\\users\\aa538\\anaconda3\\lib\\site-packages (from python-dateutil>=2.8.2->pandas) (1.16.0)\n",
      "Note: you may need to restart the kernel to use updated packages.\n"
     ]
    }
   ],
   "source": [
    "pip install requests pandas"
   ]
  },
  {
   "cell_type": "code",
   "execution_count": 6,
   "id": "84d4435b-c1c6-493d-821a-b0e65aa316de",
   "metadata": {},
   "outputs": [],
   "source": [
    "import requests\n",
    "import pandas as pd"
   ]
  },
  {
   "cell_type": "code",
   "execution_count": null,
   "id": "af04da0b-51ee-4555-bb42-7db2d6c834b3",
   "metadata": {},
   "outputs": [],
   "source": [
    "# API 엔드포인트 및 인증키 설정\n",
    "url = \"https://opendata.koroad.or.kr/data/rest/stt\"\n",
    "auth_key = \"\"  # 인증키 입력력"
   ]
  },
  {
   "cell_type": "code",
   "execution_count": 5,
   "id": "62851789-8ead-40b1-a04c-ec47cafdd038",
   "metadata": {},
   "outputs": [
    {
     "name": "stdout",
     "output_type": "stream",
     "text": [
      "데이터 저장 완료!\n"
     ]
    }
   ],
   "source": [
    "# 강원특별자치도 시군구 코드\n",
    "regions = {\n",
    "    \"강릉시\": \"1404\", \"고성군\": \"1422\", \"동해시\": \"1403\", \"삼척시\": \"1407\", \"속초시\": \"1405\",\n",
    "    \"양구군\": \"1420\", \"양양군\": \"1423\", \"영월군\": \"1415\", \"원주시\": \"1402\", \"인제군\": \"1421\",\n",
    "    \"정선군\": \"1417\", \"철원군\": \"1418\", \"춘천시\": \"1401\", \"태백시\": \"1406\", \"평창군\": \"1416\",\n",
    "    \"홍천군\": \"1412\", \"화천군\": \"1419\", \"횡성군\": \"1413\"\n",
    "}\n",
    "\n",
    "# 연도 범위 설정\n",
    "years = [str(year) for year in range(2010, 2024)]\n",
    "\n",
    "# 결과 저장용 리스트\n",
    "all_data = []\n",
    "\n",
    "# 데이터 호출\n",
    "for year in years:\n",
    "    for region_name, region_code in regions.items():\n",
    "        params = {\n",
    "            'authKey': auth_key,\n",
    "            'searchYearCd': year,\n",
    "            'siDo': '1400',  # 강원특별자치도 코드\n",
    "            'guGun': region_code,\n",
    "            'type': 'json',\n",
    "            'numOfRows': '100',  # 페이지당 최대 데이터 수\n",
    "            'pageNo': '1'\n",
    "        }\n",
    "        response = requests.get(url, params=params)\n",
    "        \n",
    "        if response.status_code == 200:\n",
    "            data = response.json()\n",
    "            items = data.get('items', {}).get('item', [])\n",
    "            for item in items:\n",
    "                item['year'] = year\n",
    "                item['region'] = region_name\n",
    "            all_data.extend(items)\n",
    "        else:\n",
    "            print(f\"{year}년 {region_name} 데이터 호출 실패: {response.status_code}\")\n",
    "\n",
    "# 데이터프레임으로 변환\n",
    "df = pd.DataFrame(all_data)\n",
    "\n",
    "# 데이터 저장\n",
    "df.to_csv(\"강원특별자치도_교통사고통계.csv\", index=False, encoding=\"utf-8-sig\")\n",
    "print(\"데이터 저장 완료!\")"
   ]
  },
  {
   "cell_type": "code",
   "execution_count": 8,
   "id": "1a1bc0a9-d94a-4a11-88b9-2223d16fed3e",
   "metadata": {},
   "outputs": [],
   "source": [
    "# 강원특별자치도 시군구 코드\n",
    "regions = {\n",
    "    \"강릉시\": \"1404\", \"고성군\": \"1422\", \"동해시\": \"1403\", \"삼척시\": \"1407\", \"속초시\": \"1405\",\n",
    "    \"양구군\": \"1420\", \"양양군\": \"1423\", \"영월군\": \"1415\", \"원주시\": \"1402\", \"인제군\": \"1421\",\n",
    "    \"정선군\": \"1417\", \"철원군\": \"1418\", \"춘천시\": \"1401\", \"태백시\": \"1406\", \"평창군\": \"1416\",\n",
    "    \"홍천군\": \"1412\", \"화천군\": \"1419\", \"횡성군\": \"1413\"\n",
    "}"
   ]
  },
  {
   "cell_type": "code",
   "execution_count": 9,
   "id": "3b6f0b60-3e52-4da3-b9d5-461b3667c168",
   "metadata": {},
   "outputs": [],
   "source": [
    "# 연도 범위 설정\n",
    "years = [str(year) for year in range(2012, 2024)]"
   ]
  },
  {
   "cell_type": "code",
   "execution_count": 10,
   "id": "33c0506c-9d61-4553-b6c4-0c7fb3038ae8",
   "metadata": {},
   "outputs": [],
   "source": [
    "# 결과 저장용 리스트\n",
    "all_data = []"
   ]
  },
  {
   "cell_type": "code",
   "execution_count": null,
   "id": "140d4f37-a5e6-4a2f-a07d-ed326c77641f",
   "metadata": {},
   "outputs": [],
   "source": [
    "# 데이터 호출\n",
    "for year in years:\n",
    "    for region_name, region_code in regions.items():\n",
    "        params = {\n",
    "            'authKey': auth_key, # 인증키\n",
    "            'searchYearCd': year, # 년도\n",
    "            'siDo': '1400',  # 강원특별자치도 코드\n",
    "            'guGun': region_code, # 군구 코드\n",
    "            'type': 'json',\n",
    "            'numOfRows': '100',  # 페이지당 최대 데이터 수\n",
    "            'pageNo': '1'\n",
    "        }\n",
    "        response = requests.get(url, params=params)\n",
    "        \n",
    "        if response.status_code == 200:\n",
    "            data = response.json()\n",
    "            items = data.get('items', {}).get('item', [])\n",
    "            for item in items:\n",
    "                item['year'] = year\n",
    "                item['region'] = region_name\n",
    "            all_data.extend(items)\n",
    "        else:\n",
    "            print(f\"{year}년 {region_name} 데이터 호출 실패: {response.status_code}\")"
   ]
  }
 ],
 "metadata": {
  "kernelspec": {
   "display_name": "Python 3 (ipykernel)",
   "language": "python",
   "name": "python3"
  },
  "language_info": {
   "codemirror_mode": {
    "name": "ipython",
    "version": 3
   },
   "file_extension": ".py",
   "mimetype": "text/x-python",
   "name": "python",
   "nbconvert_exporter": "python",
   "pygments_lexer": "ipython3",
   "version": "3.11.7"
  }
 },
 "nbformat": 4,
 "nbformat_minor": 5
}
